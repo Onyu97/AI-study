{
 "cells": [
  {
   "cell_type": "markdown",
   "metadata": {},
   "source": [
    "## ch 8 지도학습\n",
    "\n",
    "라벨링이 된 데이터를 학습시키는 것. \n",
    "트레이닝 데이터에 정답이 표시된 것이 라벨링. 정답 부분을 타깃 데이터라고 함. \n",
    "classification 문제와 regression 문제가 있음. "
   ]
  },
  {
   "cell_type": "markdown",
   "metadata": {},
   "source": [
    "#### 8.3 kNN k-Nearest Neighbor k-최근접 이웃 알고리즘\n",
    "\n",
    "비교 대상이 되는 데이터 포인트 주변에 가장 가까이 존재하는 k개의 데이터와 비교해 가장 가까운 데이터 종류로 판별. "
   ]
  },
  {
   "cell_type": "code",
   "execution_count": null,
   "metadata": {},
   "outputs": [],
   "source": []
  }
 ],
 "metadata": {
  "language_info": {
   "name": "python"
  },
  "orig_nbformat": 4
 },
 "nbformat": 4,
 "nbformat_minor": 2
}
